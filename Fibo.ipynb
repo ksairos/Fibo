{
 "cells": [
  {
   "cell_type": "code",
   "execution_count": 40,
   "metadata": {},
   "outputs": [],
   "source": [
    "def findFiboNumber():\n",
    "    n = int(input(\"Enter an index of number in Fibonacci sequence: \"))\n",
    "    a = 0\n",
    "    b = 1\n",
    "    if n == 1:\n",
    "        print(\"The number with position\",n,\"in the Fibonacci sequence is 0\")\n",
    "    else:\n",
    "        for i in range(n-2):\n",
    "            a, b = b, a+b\n",
    "        print(\"The number with position\",n,\"in the Fibonacci sequence is\",b)"
   ]
  },
  {
   "cell_type": "code",
   "execution_count": 45,
   "metadata": {},
   "outputs": [
    {
     "name": "stdout",
     "output_type": "stream",
     "text": [
      "Enter an index of number in Fibonacci sequence: 8\n",
      "The number with position 8 in the Fibonacci sequence is 13\n"
     ]
    }
   ],
   "source": [
    "findFiboNumber()"
   ]
  }
 ],
 "metadata": {
  "kernelspec": {
   "display_name": "Python 3",
   "language": "python",
   "name": "python3"
  }
 },
 "nbformat": 4,
 "nbformat_minor": 4
}
